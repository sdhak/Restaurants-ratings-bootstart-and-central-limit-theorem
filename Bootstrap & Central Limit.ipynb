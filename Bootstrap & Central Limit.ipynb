{
 "cells": [
  {
   "cell_type": "markdown",
   "metadata": {},
   "source": [
    "# 1. The Bootstrap and The Normal Curve\n",
    "\n",
    "In this exercise, we will explore a dataset that includes the safety inspection scores for restaurants in the city of Austin, Texas. We will be interested in determining the average restaurant score for the city from a random sample of the scores; the average restaurant score is out of 100. We'll compare two methods for computing a confidence interval for that quantity: the bootstrap resampling method, and an approximation based on the Central Limit Theorem."
   ]
  },
  {
   "cell_type": "code",
   "execution_count": 1,
   "metadata": {},
   "outputs": [],
   "source": [
    "import numpy as np\n",
    "from datascience import *\n",
    "\n",
    "import matplotlib\n",
    "%matplotlib inline\n",
    "import matplotlib.pyplot as plt\n",
    "plt.style.use('fivethirtyeight')\n",
    "import warnings\n",
    "warnings.simplefilter('ignore', FutureWarning)"
   ]
  },
  {
   "cell_type": "code",
   "execution_count": 2,
   "metadata": {
    "scrolled": true
   },
   "outputs": [
    {
     "data": {
      "text/html": [
       "<table border=\"1\" class=\"dataframe\">\n",
       "    <thead>\n",
       "        <tr>\n",
       "            <th>Restaurant Name</th> <th>Zip Code</th> <th>Inspection Date</th> <th>Score</th> <th>Address</th>\n",
       "        </tr>\n",
       "    </thead>\n",
       "    <tbody>\n",
       "        <tr>\n",
       "            <td>6M Grocery     </td> <td>78652   </td> <td>01/17/2014     </td> <td>90   </td> <td>805 W FM 1626 RD\n",
       "AUSTIN, TX 78652\n",
       "     </td>\n",
       "        </tr>\n",
       "        <tr>\n",
       "            <td>6M Grocery     </td> <td>78652   </td> <td>04/27/2015     </td> <td>93   </td> <td>805 W FM 1626 RD\n",
       "AUSTIN, TX 78652\n",
       "     </td>\n",
       "        </tr>\n",
       "        <tr>\n",
       "            <td>6M Grocery     </td> <td>78652   </td> <td>05/02/2016     </td> <td>88   </td> <td>805 W FM 1626 RD\n",
       "AUSTIN, TX 78652\n",
       "     </td>\n",
       "        </tr>\n",
       "        <tr>\n",
       "            <td>6M Grocery     </td> <td>78652   </td> <td>07/25/2014     </td> <td>100  </td> <td>805 W FM 1626 RD\n",
       "AUSTIN, TX 78652\n",
       "     </td>\n",
       "        </tr>\n",
       "        <tr>\n",
       "            <td>6M Grocery     </td> <td>78652   </td> <td>10/21/2015     </td> <td>87   </td> <td>805 W FM 1626 RD\n",
       "AUSTIN, TX 78652\n",
       "     </td>\n",
       "        </tr>\n",
       "        <tr>\n",
       "            <td>6M Grocery     </td> <td>78652   </td> <td>12/15/2014     </td> <td>93   </td> <td>805 W FM 1626 RD\n",
       "AUSTIN, TX 78652\n",
       "     </td>\n",
       "        </tr>\n",
       "        <tr>\n",
       "            <td>7 Eleven #36575</td> <td>78660   </td> <td>01/25/2016     </td> <td>92   </td> <td>15829 N IH 35 SVRD NB\n",
       "AUSTIN, TX 78660\n",
       "</td>\n",
       "        </tr>\n",
       "        <tr>\n",
       "            <td>7 Eleven #36575</td> <td>78660   </td> <td>03/05/2015     </td> <td>86   </td> <td>15829 N IH 35 SVRD NB\n",
       "AUSTIN, TX 78660\n",
       "</td>\n",
       "        </tr>\n",
       "        <tr>\n",
       "            <td>7 Eleven #36575</td> <td>78660   </td> <td>03/14/2014     </td> <td>93   </td> <td>15829 N IH 35 SVRD NB\n",
       "AUSTIN, TX 78660\n",
       "</td>\n",
       "        </tr>\n",
       "        <tr>\n",
       "            <td>7 Eleven #36575</td> <td>78660   </td> <td>07/27/2015     </td> <td>97   </td> <td>15829 N IH 35 SVRD NB\n",
       "AUSTIN, TX 78660\n",
       "</td>\n",
       "        </tr>\n",
       "    </tbody>\n",
       "</table>\n",
       "<p>... (24357 rows omitted)</p>"
      ],
      "text/plain": [
       "Restaurant Name | Zip Code | Inspection Date | Score | Address\n",
       "6M Grocery      | 78652    | 01/17/2014      | 90    | 805 W FM 1626 RD\n",
       "AUSTIN, TX 78652\n",
       "6M Grocery      | 78652    | 04/27/2015      | 93    | 805 W FM 1626 RD\n",
       "AUSTIN, TX 78652\n",
       "6M Grocery      | 78652    | 05/02/2016      | 88    | 805 W FM 1626 RD\n",
       "AUSTIN, TX 78652\n",
       "6M Grocery      | 78652    | 07/25/2014      | 100   | 805 W FM 1626 RD\n",
       "AUSTIN, TX 78652\n",
       "6M Grocery      | 78652    | 10/21/2015      | 87    | 805 W FM 1626 RD\n",
       "AUSTIN, TX 78652\n",
       "6M Grocery      | 78652    | 12/15/2014      | 93    | 805 W FM 1626 RD\n",
       "AUSTIN, TX 78652\n",
       "7 Eleven #36575 | 78660    | 01/25/2016      | 92    | 15829 N IH 35 SVRD NB\n",
       "AUSTIN, TX 78660\n",
       "7 Eleven #36575 | 78660    | 03/05/2015      | 86    | 15829 N IH 35 SVRD NB\n",
       "AUSTIN, TX 78660\n",
       "7 Eleven #36575 | 78660    | 03/14/2014      | 93    | 15829 N IH 35 SVRD NB\n",
       "AUSTIN, TX 78660\n",
       "7 Eleven #36575 | 78660    | 07/27/2015      | 97    | 15829 N IH 35 SVRD NB\n",
       "AUSTIN, TX 78660\n",
       "... (24357 rows omitted)"
      ]
     },
     "execution_count": 2,
     "metadata": {},
     "output_type": "execute_result"
    }
   ],
   "source": [
    "pop_restaurants = Table.read_table(\"/Users/shristidhakal/Documents/Grad School/INFO5502/Restaurants Ratings/restaurant_inspection_scores.csv\").drop('Facility ID','Process Description')\n",
    "pop_restaurants"
   ]
  },
  {
   "cell_type": "code",
   "execution_count": 3,
   "metadata": {},
   "outputs": [
    {
     "data": {
      "image/png": "[encoded data removed]",
      "text/plain": [
       "<Figure size 432x288 with 1 Axes>"
      ]
     },
     "metadata": {},
     "output_type": "display_data"
    }
   ],
   "source": [
    "pop_restaurants.hist('Score')"
   ]
  },
  {
   "cell_type": "code",
   "execution_count": 4,
   "metadata": {},
   "outputs": [
    {
     "data": {
      "text/plain": [
       "91.40706693478886"
      ]
     },
     "execution_count": 4,
     "metadata": {},
     "output_type": "execute_result"
    }
   ],
   "source": [
    "pop_mean = np.mean(pop_restaurants.column('Score'))\n",
    "pop_mean"
   ]
  },
  {
   "cell_type": "code",
   "execution_count": 5,
   "metadata": {},
   "outputs": [
    {
     "data": {
      "text/html": [
       "<table border=\"1\" class=\"dataframe\">\n",
       "    <thead>\n",
       "        <tr>\n",
       "            <th>Restaurant Name</th> <th>Zip Code</th> <th>Inspection Date</th> <th>Score</th> <th>Address</th>\n",
       "        </tr>\n",
       "    </thead>\n",
       "    <tbody>\n",
       "        <tr>\n",
       "            <td>La Quinta Inn Austin North                       </td> <td>78752   </td> <td>10/30/2015     </td> <td>100  </td> <td>7622 N IH 35 SVRD SB\n",
       "AUSTIN, TX 78752\n",
       "(30.338446, -97.70 ...</td>\n",
       "        </tr>\n",
       "        <tr>\n",
       "            <td>Romano's Macaroni Grill                          </td> <td>78759   </td> <td>10/22/2014     </td> <td>69   </td> <td>9828 GREAT HILLS TRL Unit 3\n",
       "AUSTIN, TX 78759\n",
       "(30.394225, ...</td>\n",
       "        </tr>\n",
       "        <tr>\n",
       "            <td>7-Eleven Convenience Store                       </td> <td>78705   </td> <td>12/31/2014     </td> <td>76   </td> <td>2600 GUADALUPE ST\n",
       "AUSTIN, TX 78705\n",
       "(30.290567, -97.741326)  </td>\n",
       "        </tr>\n",
       "        <tr>\n",
       "            <td>Anderson Mill Elementary                         </td> <td>78750   </td> <td>03/11/2016     </td> <td>100  </td> <td>10610 SALT MILL HOLW\n",
       "AUSTIN, TX 78750\n",
       "(30.453434, -97.80 ...</td>\n",
       "        </tr>\n",
       "        <tr>\n",
       "            <td>Wal-Mart Supercenter-Bakery #1129                </td> <td>78729   </td> <td>04/08/2015     </td> <td>100  </td> <td>13201 N FM 620 RD NB\n",
       "AUSTIN, TX 78729\n",
       "(30.45313, -97.8277)  </td>\n",
       "        </tr>\n",
       "        <tr>\n",
       "            <td>Riverside Nursing & Rehab Center                 </td> <td>78741   </td> <td>06/22/2015     </td> <td>97   </td> <td>6801 E RIVERSIDE DR\n",
       "AUSTIN, TX 78741\n",
       "(30.223087, -97.699223)</td>\n",
       "        </tr>\n",
       "        <tr>\n",
       "            <td>MN - Creative World Learning Center - Austin Inc.</td> <td>78653   </td> <td>04/08/2014     </td> <td>100  </td> <td>11401 E US 290 HWY EB\n",
       "MANOR, TX 78653\n",
       "                      </td>\n",
       "        </tr>\n",
       "        <tr>\n",
       "            <td>BC - Tony C's                                    </td> <td>78738   </td> <td>11/16/2015     </td> <td>98   </td> <td>12800 HILL COUNTRY BLVD Unit 160\n",
       "BEE CAVE, TX 78738\n",
       "(30. ...</td>\n",
       "        </tr>\n",
       "        <tr>\n",
       "            <td>Child Inc.-Grant Child Development Center        </td> <td>78758   </td> <td>08/19/2016     </td> <td>96   </td> <td>1701 KRAMER LN\n",
       "AUSTIN, TX 78758\n",
       "(30.385574, -97.703857)     </td>\n",
       "        </tr>\n",
       "        <tr>\n",
       "            <td>GMC Catering Inc.                                </td> <td>78724   </td> <td>12/01/2015     </td> <td>100  </td> <td>7311 DECKER LN\n",
       "AUSTIN, TX 78724\n",
       "(30.296957, -97.624277)     </td>\n",
       "        </tr>\n",
       "    </tbody>\n",
       "</table>\n",
       "<p>... (90 rows omitted)</p>"
      ],
      "text/plain": [
       "Restaurant Name                                   | Zip Code | Inspection Date | Score | Address\n",
       "La Quinta Inn Austin North                        | 78752    | 10/30/2015      | 100   | 7622 N IH 35 SVRD SB\n",
       "AUSTIN, TX 78752\n",
       "(30.338446, -97.70 ...\n",
       "Romano's Macaroni Grill                           | 78759    | 10/22/2014      | 69    | 9828 GREAT HILLS TRL Unit 3\n",
       "AUSTIN, TX 78759\n",
       "(30.394225, ...\n",
       "7-Eleven Convenience Store                        | 78705    | 12/31/2014      | 76    | 2600 GUADALUPE ST\n",
       "AUSTIN, TX 78705\n",
       "(30.290567, -97.741326)\n",
       "Anderson Mill Elementary                          | 78750    | 03/11/2016      | 100   | 10610 SALT MILL HOLW\n",
       "AUSTIN, TX 78750\n",
       "(30.453434, -97.80 ...\n",
       "Wal-Mart Supercenter-Bakery #1129                 | 78729    | 04/08/2015      | 100   | 13201 N FM 620 RD NB\n",
       "AUSTIN, TX 78729\n",
       "(30.45313, -97.8277)\n",
       "Riverside Nursing & Rehab Center                  | 78741    | 06/22/2015      | 97    | 6801 E RIVERSIDE DR\n",
       "AUSTIN, TX 78741\n",
       "(30.223087, -97.699223)\n",
       "MN - Creative World Learning Center - Austin Inc. | 78653    | 04/08/2014      | 100   | 11401 E US 290 HWY EB\n",
       "MANOR, TX 78653\n",
       "BC - Tony C's                                     | 78738    | 11/16/2015      | 98    | 12800 HILL COUNTRY BLVD Unit 160\n",
       "BEE CAVE, TX 78738\n",
       "(30. ...\n",
       "Child Inc.-Grant Child Development Center         | 78758    | 08/19/2016      | 96    | 1701 KRAMER LN\n",
       "AUSTIN, TX 78758\n",
       "(30.385574, -97.703857)\n",
       "GMC Catering Inc.                                 | 78724    | 12/01/2015      | 100   | 7311 DECKER LN\n",
       "AUSTIN, TX 78724\n",
       "(30.296957, -97.624277)\n",
       "... (90 rows omitted)"
      ]
     },
     "execution_count": 5,
     "metadata": {},
     "output_type": "execute_result"
    }
   ],
   "source": [
    "restaurant_sample = pop_restaurants.sample(100, with_replacement=False)\n",
    "restaurant_sample"
   ]
  },
  {
   "cell_type": "code",
   "execution_count": 6,
   "metadata": {},
   "outputs": [
    {
     "data": {
      "image/png": "[encoded data removed]",
      "text/plain": [
       "<Figure size 432x288 with 1 Axes>"
      ]
     },
     "metadata": {},
     "output_type": "display_data"
    }
   ],
   "source": [
    "restaurant_sample.hist('Score')"
   ]
  },
  {
   "cell_type": "code",
   "execution_count": 7,
   "metadata": {},
   "outputs": [
    {
     "data": {
      "text/plain": [
       "91.62"
      ]
     },
     "execution_count": 7,
     "metadata": {},
     "output_type": "execute_result"
    }
   ],
   "source": [
    "sample_mean = np.mean(restaurant_sample.column('Score'))\n",
    "sample_mean"
   ]
  },
  {
   "cell_type": "markdown",
   "metadata": {},
   "source": [
    "# 1.1 Question 1\n",
    "\n",
    "Complete the function one_resampled_mean below. It should take in an original table data, with a column Score, and return the mean score of one resampling from data."
   ]
  },
  {
   "cell_type": "code",
   "execution_count": 8,
   "metadata": {},
   "outputs": [
    {
     "data": {
      "text/plain": [
       "91.26"
      ]
     },
     "execution_count": 8,
     "metadata": {},
     "output_type": "execute_result"
    }
   ],
   "source": [
    "def one_resampled_mean(data):\n",
    "    resampled_data = data.sample(100, with_replacement=False)\n",
    "    sample_mean = np.mean(resampled_data.column('Score'))\n",
    "    return sample_mean\n",
    "\n",
    "this_mean = one_resampled_mean(pop_restaurants)\n",
    "this_mean"
   ]
  },
  {
   "cell_type": "markdown",
   "metadata": {},
   "source": [
    "# 1.2 Question 2\n",
    "\n",
    "Complete the function bootstrap_scores below. It should take no arguments. It should simulate drawing 5000 resamples from restaurant_sample and compute the mean restaurant score in each resample. It should return an array of those 5000 resample means."
   ]
  },
  {
   "cell_type": "code",
   "execution_count": 9,
   "metadata": {},
   "outputs": [
    {
     "data": {
      "text/plain": [
       "array([92.72, 91.42, 91.12, ..., 91.57, 91.62, 91.71])"
      ]
     },
     "execution_count": 9,
     "metadata": {},
     "output_type": "execute_result"
    }
   ],
   "source": [
    "def bootstrap_scores():\n",
    "    resampled_means = make_array()\n",
    "    for i in range(5000):\n",
    "        resampled_data = restaurant_sample.sample(100, with_replacement=True)\n",
    "        resampled_mean = one_resampled_mean(resampled_data)\n",
    "        resampled_means = np.append(resampled_means, resampled_mean)\n",
    "    return resampled_means\n",
    "\n",
    "resampled_means = bootstrap_scores()\n",
    "resampled_means"
   ]
  },
  {
   "cell_type": "code",
   "execution_count": 10,
   "metadata": {},
   "outputs": [
    {
     "data": {
      "image/png": "[encoded data removed]",
      "text/plain": [
       "<Figure size 432x288 with 1 Axes>"
      ]
     },
     "metadata": {},
     "output_type": "display_data"
    }
   ],
   "source": [
    "Table().with_column('Resampled Means', resampled_means).hist()"
   ]
  },
  {
   "cell_type": "markdown",
   "metadata": {},
   "source": [
    "# 1.3 Question 3\n",
    "\n",
    "Compute a 95 percent confidence interval for the average restaurant score using the array resampled_means."
   ]
  },
  {
   "cell_type": "code",
   "execution_count": 11,
   "metadata": {},
   "outputs": [
    {
     "name": "stdout",
     "output_type": "stream",
     "text": [
      "95% confidence interval for the average restaurant score, computed by bootstrapping :\n",
      "( 90.05 , 93.07 )\n"
     ]
    }
   ],
   "source": [
    "lower_bound = np.round(percentile(2.5, resampled_means), 2)\n",
    "upper_bound = np.round(percentile(97.5, resampled_means), 2)\n",
    "print(\"95% confidence interval for the average restaurant score, computed by bootstrapping\",\n",
    "      \":\\n(\",lower_bound, \",\", upper_bound, \")\")"
   ]
  },
  {
   "cell_type": "markdown",
   "metadata": {},
   "source": [
    "# 1.4  Question 4\n",
    "\n",
    "What distribution is the histogram between question 2 and 3 displaying (that is, what data are plotted), and why does it have that shape?"
   ]
  },
  {
   "cell_type": "markdown",
   "metadata": {},
   "source": [
    ">The histogram is displaying the means of 5000 bootstrapped resamples drawn with replacement from our original restaurant samples of 100, which is also drawn with replacement. It is roughly normally distributed because of the Central Limit Theorem i.e. if we repeatedly calculate the arithmetic average of samples drawn randomly from a population with replacement, the probability distribution of those averages tends to follow a normal distribution even if the population's distribution is not normal.     "
   ]
  },
  {
   "cell_type": "markdown",
   "metadata": {},
   "source": [
    "# 1.5  Question 5\n",
    "Does the distribution of the sampled scores look normally distributed?  State “yes” or “no” and describe in one sentence why you should expect this result."
   ]
  },
  {
   "cell_type": "markdown",
   "metadata": {},
   "source": [
    ">No, the distribution of the sampled scores does not look normally distributed, instead it is left-tailed with most observations centered towards the right (close to the value of 100). This is because the distribution of samples does not necessarily equate to the distribution of mean of the samples, hence in this case, the Central Limit Theorem does not apply.  "
   ]
  },
  {
   "cell_type": "markdown",
   "metadata": {},
   "source": [
    "# 1.6  Question 6\n",
    "Without referencing the array resampled_means or performing any new simulations, calculate an interval around the sample_mean that covers approximately 95% of the numbers in the resampled_means array.  This confidence interval should look very similar to the one you computed in Question 3."
   ]
  },
  {
   "cell_type": "code",
   "execution_count": 12,
   "metadata": {},
   "outputs": [
    {
     "data": {
      "text/plain": [
       "7.635155532142093"
      ]
     },
     "execution_count": 12,
     "metadata": {},
     "output_type": "execute_result"
    }
   ],
   "source": [
    "sample_sd = np.std(restaurant_sample.column('Score'))\n",
    "sample_sd"
   ]
  },
  {
   "cell_type": "code",
   "execution_count": 13,
   "metadata": {},
   "outputs": [
    {
     "name": "stdout",
     "output_type": "stream",
     "text": [
      "95% confidence interval for the average restaurant score, computed by a normal approximation :\n",
      "( 76.34968893571582 , 106.89031106428419 )\n"
     ]
    }
   ],
   "source": [
    "sample_mean = np.mean(restaurant_sample.column('Score'))\n",
    "sample_sd = np.std(restaurant_sample.column('Score'))\n",
    "sample_size = restaurant_sample.num_rows\n",
    "\n",
    "sd_of_means = sample_sd * 2\n",
    "lower_bound_normal = sample_mean - sd_of_means\n",
    "upper_bound_normal = sample_mean + sd_of_means\n",
    "print(\"95% confidence interval for the average restaurant score, computed by a normal approximation\",\n",
    "      \":\\n(\",lower_bound_normal, \",\", upper_bound_normal, \")\")"
   ]
  },
  {
   "cell_type": "markdown",
   "metadata": {},
   "source": [
    "# 2  Testing the Central Limit Theorem\n",
    "To recap the properties we just saw: The Central Limit Theorem tells us that the probability distribution of the sum or average of a large random sample drawn with replacement will be roughly normal, regardless of the distribution of the population from which the sample is drawn."
   ]
  },
  {
   "cell_type": "markdown",
   "metadata": {},
   "source": [
    "# 2.1  Question 1\n",
    "Define the function one_statistic_prop_heads which should return exactly one simulated statistic of the proportion of heads from n coin flips."
   ]
  },
  {
   "cell_type": "code",
   "execution_count": 14,
   "metadata": {},
   "outputs": [
    {
     "data": {
      "text/plain": [
       "48.0"
      ]
     },
     "execution_count": 14,
     "metadata": {},
     "output_type": "execute_result"
    }
   ],
   "source": [
    "coin_proportions = make_array(.5, .5)\n",
    "\n",
    "def one_statistic_prop_heads(n):\n",
    "    simulated_proportions = sample_proportions(n, coin_proportions)\n",
    "    prop_heads = simulated_proportions.item(0)* 100\n",
    "    return prop_heads \n",
    "\n",
    "one_statistic_prop_heads(100)"
   ]
  },
  {
   "cell_type": "markdown",
   "metadata": {},
   "source": [
    "# 2.2 Question 2 \n",
    "The CLT only applies when sample sizes are \"sufficiently large.\" This isn't a very precise statement. Is 10 large? How about 50? The truth is that it depends both on the original population distribution and just how \"normal\" you want the result to look. Let's use a simulation to get a feel for how the distribution of the sample mean changes as sample size goes up.\n",
    "\n",
    "Consider a coin flip. If we say Heads is $1$ and Tails is $0$, then there's a 50% chance of getting a 1 and a 50% chance of getting a 0, which definitely doesn't match our definition of a normal distribution. The average of several coin tosses, where Heads is 1 and Tails is 0, is equal to the proportion of heads in those coin tosses (which is equivalent to the mean value of the coin tosses), so the CLT should hold true if we compute the sample proportion of heads many times.\n",
    "\n",
    "Write a function called sample_size_n that takes in a sample size $n$. It should return an array that contains 5000 sample proportions of heads, each from $n$ coin flips."
   ]
  },
  {
   "cell_type": "code",
   "execution_count": 15,
   "metadata": {},
   "outputs": [
    {
     "data": {
      "text/plain": [
       "array([49.68, 50.12, 49.3 , ..., 49.48, 49.38, 50.12])"
      ]
     },
     "execution_count": 15,
     "metadata": {},
     "output_type": "execute_result"
    }
   ],
   "source": [
    "def sample_size_n(n):\n",
    "    coin_proportions = make_array(.5, .5)\n",
    "    heads_proportions = make_array()\n",
    "    for i in np.arange(5000):\n",
    "        simulated_proportions = sample_proportions(n, coin_proportions)\n",
    "        prop_heads = simulated_proportions.item(0)* 100\n",
    "        heads_proportions = np.append(heads_proportions, prop_heads)\n",
    "    return heads_proportions\n",
    "\n",
    "sample_size_n(5000)"
   ]
  },
  {
   "cell_type": "markdown",
   "metadata": {},
   "source": [
    "# 2.3  Question 3\n",
    "Write a function called empirical_sample_mean_sd that takes a sample size n as its argument.  The function should simulate 500 samples with replacement of size n from the flight delays dataset, and it should return the standard deviation of the means of those 500 samples."
   ]
  },
  {
   "cell_type": "code",
   "execution_count": 16,
   "metadata": {},
   "outputs": [
    {
     "name": "stdout",
     "output_type": "stream",
     "text": [
      "Date   | Flight Number | Destination | Delay\n",
      "6/1/15 | 73            | HNL         | 257\n",
      "6/1/15 | 217           | EWR         | 28\n",
      "6/1/15 | 237           | STL         | -3\n",
      "6/1/15 | 250           | SAN         | 0\n",
      "6/1/15 | 267           | PHL         | 64\n",
      "6/1/15 | 273           | SEA         | -6\n",
      "6/1/15 | 278           | SEA         | -8\n",
      "6/1/15 | 292           | EWR         | 12\n",
      "6/1/15 | 300           | HNL         | 20\n",
      "6/1/15 | 317           | IND         | -10\n",
      "... (13815 rows omitted)\n"
     ]
    }
   ],
   "source": [
    "delays = Table().read_table(\"/Users/shristidhakal/Documents/Grad School/INFO5502/Restaurants Ratings/united_summer2015.csv\")\n",
    "print(delays)"
   ]
  },
  {
   "cell_type": "code",
   "execution_count": 17,
   "metadata": {},
   "outputs": [
    {
     "data": {
      "text/plain": [
       "12.420387781385893"
      ]
     },
     "execution_count": 17,
     "metadata": {},
     "output_type": "execute_result"
    }
   ],
   "source": [
    "def empirical_sample_mean_sd(n):\n",
    "    sample_means = make_array()\n",
    "    \n",
    "    for i in np.arange(500):\n",
    "        sample = delays.select('Delay').sample(n, with_replacement=False).column(0)\n",
    "        sample_mean = np.mean(sample)\n",
    "        sample_means = np.append(sample_means, sample_mean)\n",
    "    return np.std(sample_means)\n",
    "\n",
    "empirical_sample_mean_sd(10)"
   ]
  },
  {
   "cell_type": "markdown",
   "metadata": {},
   "source": [
    "# 2.4 Question 4 \n",
    "Now, write a function called predict_sample_mean_sd to find the predicted value of the standard deviation of means according to the relationship between the standard deviation of the sample mean and sample size that is discussed here in the textbook. It takes a sample size n (a number) as its argument. It returns the predicted value of the standard deviation of the mean delay time for samples of size n from the flight delays (represented in the table united)."
   ]
  },
  {
   "cell_type": "code",
   "execution_count": 18,
   "metadata": {},
   "outputs": [
    {
     "data": {
      "text/plain": [
       "12.734986611693001"
      ]
     },
     "execution_count": 18,
     "metadata": {},
     "output_type": "execute_result"
    }
   ],
   "source": [
    "def predict_sample_mean_sd(n):\n",
    "    means = make_array()\n",
    "    \n",
    "    for i in np.arange(10000):\n",
    "        means = np.append(means, np.mean(delays.sample(n).column('Delay')))\n",
    "    sd = np.std(means)\n",
    "    return sd\n",
    "\n",
    "predict_sample_mean_sd(10)"
   ]
  },
  {
   "cell_type": "code",
   "execution_count": 19,
   "metadata": {},
   "outputs": [
    {
     "data": {
      "text/plain": [
       "1.7647745004161297"
      ]
     },
     "execution_count": 19,
     "metadata": {},
     "output_type": "execute_result"
    }
   ],
   "source": [
    "predict_sample_mean_sd(500)"
   ]
  },
  {
   "cell_type": "markdown",
   "metadata": {},
   "source": [
    ">The predicted value of the standard deviation of the mean delay time for samples of size 10 was around 12.29 whereas the predicted valued of the same for sample size 500 was around 1.77. This reinforces the core idea of the standard deviation that as the sample size increases, the standard deviation tends to decrease."
   ]
  },
  {
   "cell_type": "code",
   "execution_count": null,
   "metadata": {},
   "outputs": [],
   "source": []
  }
 ],
 "metadata": {
  "kernelspec": {
   "display_name": "Python 3",
   "language": "python",
   "name": "python3"
  },
  "language_info": {
   "codemirror_mode": {
    "name": "ipython",
    "version": 3
   },
   "file_extension": ".py",
   "mimetype": "text/x-python",
   "name": "python",
   "nbconvert_exporter": "python",
   "pygments_lexer": "ipython3",
   "version": "3.7.4"
  }
 },
 "nbformat": 4,
 "nbformat_minor": 2
}
